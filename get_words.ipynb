{
 "cells": [
  {
   "cell_type": "code",
   "execution_count": 1,
   "metadata": {},
   "outputs": [
    {
     "ename": "ModuleNotFoundError",
     "evalue": "No module named 'requests'",
     "output_type": "error",
     "traceback": [
      "\u001b[0;31m---------------------------------------------------------------------------\u001b[0m",
      "\u001b[0;31mModuleNotFoundError\u001b[0m                       Traceback (most recent call last)",
      "Cell \u001b[0;32mIn[1], line 1\u001b[0m\n\u001b[0;32m----> 1\u001b[0m \u001b[38;5;28;01mimport\u001b[39;00m \u001b[38;5;21;01mrequests\u001b[39;00m\n\u001b[1;32m      2\u001b[0m \u001b[38;5;28;01mfrom\u001b[39;00m \u001b[38;5;21;01mbs4\u001b[39;00m \u001b[38;5;28;01mimport\u001b[39;00m BeautifulSoup\n\u001b[1;32m      3\u001b[0m \u001b[38;5;28;01mimport\u001b[39;00m \u001b[38;5;21;01mos\u001b[39;00m\n",
      "\u001b[0;31mModuleNotFoundError\u001b[0m: No module named 'requests'"
     ]
    }
   ],
   "source": [
    "import requests\n",
    "from bs4 import BeautifulSoup\n",
    "import os"
   ]
  },
  {
   "cell_type": "code",
   "execution_count": 48,
   "metadata": {},
   "outputs": [
    {
     "data": {
      "text/plain": [
       "816"
      ]
     },
     "execution_count": 48,
     "metadata": {},
     "output_type": "execute_result"
    }
   ],
   "source": [
    "# Path to your local HTML file\n",
    "file_path = \"full_html.txt\"\n",
    "\n",
    "# Open and read the HTML file\n",
    "with open(file_path, \"r\", encoding=\"utf-8\") as file:\n",
    "    html_content = file.read()\n",
    "\n",
    "# Parse the HTML\n",
    "soup = BeautifulSoup(html_content, \"html.parser\")\n",
    "\n",
    "# Extract the words\n",
    "words = [a.text.strip() for a in soup.find_all(\"a\", class_=\"word\")]\n",
    "\n",
    "len(words)"
   ]
  },
  {
   "cell_type": "code",
   "execution_count": 49,
   "metadata": {},
   "outputs": [
    {
     "name": "stdout",
     "output_type": "stream",
     "text": [
      "334\n"
     ]
    }
   ],
   "source": [
    "# Path to your local HTML file\n",
    "file_path = \"full_html2.txt\"\n",
    "\n",
    "# Open and read the HTML file\n",
    "with open(file_path, \"r\", encoding=\"utf-8\") as file:\n",
    "    html_content = file.read()\n",
    "\n",
    "# Parse the HTML\n",
    "soup = BeautifulSoup(html_content, \"html.parser\")\n",
    "\n",
    "# Extract the words\n",
    "words2 = [a.text.strip() for a in soup.find_all(\"a\", class_=\"word\")]\n",
    "\n",
    "print(len(words2))"
   ]
  },
  {
   "cell_type": "code",
   "execution_count": 50,
   "metadata": {},
   "outputs": [
    {
     "data": {
      "text/plain": [
       "822"
      ]
     },
     "execution_count": 50,
     "metadata": {},
     "output_type": "execute_result"
    }
   ],
   "source": [
    "complete_words = list(set(words) | set(words2))\n",
    "len(complete_words)"
   ]
  },
  {
   "cell_type": "code",
   "execution_count": 70,
   "metadata": {},
   "outputs": [
    {
     "data": {
      "text/plain": [
       "3.425"
      ]
     },
     "execution_count": 70,
     "metadata": {},
     "output_type": "execute_result"
    }
   ],
   "source": [
    "822 / (8 * 30)"
   ]
  },
  {
   "cell_type": "code",
   "execution_count": 61,
   "metadata": {},
   "outputs": [],
   "source": [
    "with open(\"complete_words.txt\", \"w\") as file:\n",
    "    for item in complete_words:\n",
    "        file.write(item + \"\\n\")"
   ]
  },
  {
   "cell_type": "code",
   "execution_count": 2,
   "metadata": {},
   "outputs": [
    {
     "name": "stdout",
     "output_type": "stream",
     "text": [
      "['equable', 'interregnum', 'variegated', 'tortuous', 'daunt', 'sardonic', 'resolve', 'warrant', 'stolid', 'insensible']\n"
     ]
    }
   ],
   "source": [
    "import random\n",
    "\n",
    "\n",
    "# Function to read words from a file into a list\n",
    "def read_words_from_file(filename):\n",
    "    with open(filename, \"r\") as file:\n",
    "        return [line.strip() for line in file]\n",
    "\n",
    "\n",
    "# Function to append words to a file\n",
    "def append_words_to_file(filename, words):\n",
    "    with open(filename, \"a\") as file:\n",
    "        for word in words:\n",
    "            file.write(word + \"\\n\")\n",
    "\n",
    "\n",
    "# Filenames\n",
    "file1 = \"complete_words.txt\"  # File to read words from\n",
    "file2 = \"learned_words.txt\"  # File to append words to\n",
    "\n",
    "# Number of words to select and append\n",
    "num_words_to_select = 10\n",
    "\n",
    "# Read words from both files\n",
    "words_file1 = set(read_words_from_file(file1))\n",
    "words_file2 = set(read_words_from_file(file2))\n",
    "\n",
    "# Find words in file1 that are not in file2\n",
    "unique_words = list(words_file1 - words_file2)\n",
    "\n",
    "# Check if there are enough unique words to select\n",
    "if len(unique_words) < num_words_to_select:\n",
    "    print(\n",
    "        f\"Only {len(unique_words)} unique words available, which is less than the requested {num_words_to_select}.\"\n",
    "    )\n",
    "else:\n",
    "    # Randomly select specified number of words from the unique set\n",
    "    selected_words = random.sample(unique_words, num_words_to_select)\n",
    "print(selected_words)"
   ]
  },
  {
   "cell_type": "code",
   "execution_count": 3,
   "metadata": {},
   "outputs": [
    {
     "name": "stdout",
     "output_type": "stream",
     "text": [
      "Selected words: ['equable', 'interregnum', 'variegated', 'tortuous', 'daunt', 'sardonic', 'resolve', 'warrant', 'stolid', 'insensible']\n"
     ]
    }
   ],
   "source": [
    "# Append selected words to the second file\n",
    "# append_words_to_file(file2, selected_words)\n",
    "print(f\"Selected words: {selected_words}\")"
   ]
  },
  {
   "cell_type": "code",
   "execution_count": null,
   "metadata": {},
   "outputs": [],
   "source": []
  }
 ],
 "metadata": {
  "kernelspec": {
   "display_name": "Python 3",
   "language": "python",
   "name": "python3"
  },
  "language_info": {
   "codemirror_mode": {
    "name": "ipython",
    "version": 3
   },
   "file_extension": ".py",
   "mimetype": "text/x-python",
   "name": "python",
   "nbconvert_exporter": "python",
   "pygments_lexer": "ipython3",
   "version": "3.10.12"
  }
 },
 "nbformat": 4,
 "nbformat_minor": 2
}
